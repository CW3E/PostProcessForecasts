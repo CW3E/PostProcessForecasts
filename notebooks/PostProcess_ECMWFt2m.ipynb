{
 "cells": [
  {
   "cell_type": "markdown",
   "metadata": {},
   "source": [
    "# Purpose Statement\n",
    "\n",
    "This Notebook Introduces how to download our Benchmark datasets and a single benchmark method for post-processing an Ensemble forecast (EMOS), it is based on the 2018 paper by Stephan Rasp and Sebastian Lerch. Please see their paper for an exploration of the EMOS system we use here, and other interesting methods for post-process bench marking. A brief description is also below:\n",
    "\n",
    "Rasp & Lerch github for relevant code: [GITHUB](https://github.com/slerch/ppnn)\n",
    "\n",
    "Paper URL: [Rasp & Lerch 2018](https://arxiv.org/abs/1805.09091)\n",
    "\n",
    "#### Ensemble Model Output Statistics (EMOS)\n",
    "\n",
    "---\n",
    "Ensemble Model Output Statistics post-processing  is a non-homogeneous regression which (EMOS; Gneiting et al., 2005), relies on parametric forecast distributions. One specifies a predictive distribution and estimate its parameters. In the EMOS framework the distribution parameters are connected to summary statistics of the ensemble predictions through suitable link functions which are estimated by minimizing a probabilistic loss function over a training dataset. We will utilize the KERAS training framework in order to specify and learn this linking function. \n",
    "\n",
    "#### CRPS as a 'Proper Scoring' Metric for Ensemble Evaluation\n",
    "----\n",
    "\n",
    "We use CRPS as a scoring metric to evaluate the Ensemble predictions. We are assuming a parametric normal distribution for the PNA forecast and applying the CRPS methods as seen in Rasp & Lerch 2018 appendix.\n",
    "\n",
    "See Rasp & Lerch for an evaluation of CRPS as a Proper scoring metric \n",
    "\n",
    "Paper URL: [Rasp & Lerch 2018](https://arxiv.org/abs/1805.09091)\n",
    "\n",
    "## Import Necessary Packages:"
   ]
  },
  {
   "cell_type": "code",
   "execution_count": 46,
   "metadata": {},
   "outputs": [],
   "source": [
    "import numpy as np\n",
    "import pandas as pd\n",
    "import glob\n",
    "import os\n",
    "import matplotlib.pyplot as plt\n",
    "from datetime import datetime\n",
    "from datetime import timedelta\n",
    "import time\n",
    "import xarray as xr\n",
    "from netCDF4 import Dataset\n",
    "from scipy.stats import rankdata\n",
    "\n",
    "\n",
    "\n",
    "import keras\n",
    "from keras.layers import Input, Dense, merge, Embedding, Flatten, Concatenate\n",
    "from keras.models import Model, Sequential\n",
    "from keras.optimizers import Adam, SGD\n",
    "import keras.backend as K\n",
    "from keras.callbacks import EarlyStopping\n",
    "\n",
    "if keras.backend.backend() == 'tensorflow':\n",
    "    from tensorflow import erf\n",
    "else:\n",
    "    from theano.tensor import erf\n",
    "# import utils\n",
    "\n",
    "import random \n",
    "random.seed(1) #for reproduceability. \n",
    "\n",
    "import seaborn as sns\n",
    "sns.set_style('whitegrid', {'font.family':'serif', 'font.serif':'Times New Roman'})\n"
   ]
  },
  {
   "cell_type": "markdown",
   "metadata": {},
   "source": [
    "## Functions We Will Need to Evaluate and Train Our EMOS model:"
   ]
  },
  {
   "cell_type": "code",
   "execution_count": 63,
   "metadata": {
    "collapsed": true
   },
   "outputs": [],
   "source": [
    "def crps_cost_function(y_true, y_pred, theano=False):\n",
    "    \"\"\"Compute the CRPS cost function for a normal distribution defined by\n",
    "    the mean and standard deviation.\n",
    "    Code inspired by Kai Polsterer (HITS).\n",
    "    Args:\n",
    "        y_true: True values\n",
    "        y_pred: Tensor containing predictions: [mean, std]\n",
    "        theano: Set to true if using this with pure theano.\n",
    "    Returns:\n",
    "        mean_crps: Scalar with mean CRPS over batch\n",
    "    \"\"\"\n",
    "\n",
    "    # Split input\n",
    "    mu = y_pred[:, 0]\n",
    "    sigma = y_pred[:, 1]\n",
    "    # Ugly workaround for different tensor allocation in keras and theano\n",
    "    if not theano:\n",
    "        y_true = y_true[:, 0]   # Need to also get rid of axis 1 to match!\n",
    "\n",
    "    # To stop sigma from becoming negative we first have to \n",
    "    # convert it the the variance and then take the square\n",
    "    # root again. \n",
    "    var = K.square(sigma)\n",
    "    # The following three variables are just for convenience\n",
    "    loc = (y_true - mu) / K.sqrt(var)\n",
    "    phi = 1.0 / np.sqrt(2.0 * np.pi) * K.exp(-K.square(loc) / 2.0)\n",
    "    Phi = 0.5 * (1.0 + erf(loc / np.sqrt(2.0)))\n",
    "    # First we will compute the crps for each input/target pair\n",
    "    crps =  K.sqrt(var) * (loc * (2. * Phi - 1.) + 2 * phi - 1. / np.sqrt(np.pi))\n",
    "    # Then we take the mean. The cost is now a scalar\n",
    "    return K.mean(crps)\n",
    "\n",
    "\n",
    "\n",
    "def build_EMOS_network_keras(compile=False, optimizer='sgd', lr=0.1):\n",
    "    \"\"\"Build (and maybe compile) EMOS network in keras.\n",
    "    Args:\n",
    "        compile: If true, compile model\n",
    "        optimizer: String of keras optimizer\n",
    "        lr: learning rate\n",
    "    Returns:\n",
    "        model: Keras model\n",
    "    \"\"\"\n",
    "    mean_in = Input(shape=(1,))\n",
    "    std_in = Input(shape=(1,))\n",
    "    mean_out = Dense(1, activation='linear')(mean_in)\n",
    "    std_out = Dense(1, activation='linear')(std_in)\n",
    "    x = keras.layers.concatenate([mean_out, std_out], axis=1)\n",
    "    model = Model(inputs=[mean_in, std_in], outputs=x)\n",
    "\n",
    "    if compile:\n",
    "        opt = keras.optimizers.__dict__[optimizer](lr=lr)\n",
    "        model.compile(optimizer=opt, loss=crps_cost_function)\n",
    "    return model\n",
    "\n",
    "\n",
    "def spreadskill(guess,truth,stddevver,numbins,nomem):\n",
    "#     guess: postprocess guess any input shape\n",
    "#     truth: true value any input shape \n",
    "#     stddevver: standard deviation of the guess any input shape\n",
    "#     returns: \n",
    "#         variance mean, mse mean, bootstraped variance, bootrapped mean\n",
    "    \n",
    "    distPP = np.ndarray.flatten(stddevver)\n",
    "    guess = np.ndarray.flatten(guess)\n",
    "    truth = np.ndarray.flatten(truth)\n",
    "    \n",
    "    indexsort = np.argsort(distPP)\n",
    "    err = (np.squeeze(guess)- np.squeeze(truth))**2\n",
    "    varianceall = distPP[indexsort]\n",
    "    err_sort = err[indexsort]\n",
    "\n",
    "    inds=np.digitize(varianceall,bins=np.arange(0,160,10))\n",
    "\n",
    "    numbins = numbins \n",
    "    inds = np.zeros(len(varianceall))\n",
    "    numst = 0\n",
    "    for nn in range(numbins):\n",
    "        numdo = int(len(varianceall)/numbins)\n",
    "        inds[numst:numdo*(nn+1)] = nn\n",
    "    \n",
    "        if nn ==np.max(range(numbins)):\n",
    "            inds[numst:] = nn\n",
    "        numst+=numdo\n",
    "    \n",
    "    avgvar_m = []\n",
    "    msebin_m = []\n",
    "\n",
    "    avgvar_s = []\n",
    "    msebin_s = []\n",
    "    nummy =2000\n",
    "\n",
    "    for bb in np.unique(inds):\n",
    "        locbin = np.where([inds==bb])[1]\n",
    "        tavg =0\n",
    "        tmse =0\n",
    "        tavg = np.zeros(nummy)\n",
    "        tmse = np.zeros(nummy)\n",
    "        for ii in range(nummy):\n",
    "            tavg[ii]  = np.mean(np.random.choice(varianceall[locbin],len(locbin)))\n",
    "            tmse[ii]  = np.sqrt(np.mean(np.random.choice(err_sort[locbin],len(locbin))))\n",
    "        avgvar_m = np.append(avgvar_m,np.mean(tavg))\n",
    "        msebin_m = np.append(msebin_m,np.mean(tmse))\n",
    "        avgvar_s = np.append(avgvar_s,np.std(tavg))\n",
    "        msebin_s = np.append(msebin_s,((nomem)/(nomem+1))*np.std(tmse))\n",
    "    return avgvar_m,msebin_m,avgvar_s,msebin_s\n",
    "\n",
    "\n",
    "\n",
    "def ranker(obs_array,Ensemble):\n",
    "    \"\"\"Compute the rank histogram rankings\n",
    "    obs_array = np.array[time,];           e.g. obs_array.shape = (136884,)\n",
    "    Ensemble = np.array([Ensemble,time]);  e.g. Ensemble.shape  = (15, 136884)\n",
    "     \"\"\"\n",
    "    combined=np.vstack((np.array(obs_array)[np.newaxis],Ensemble))\n",
    "    print('computing ranks')\n",
    "    ranks=np.apply_along_axis(lambda x: rankdata(x,method='min'),0,combined)\n",
    "\n",
    "    print('computing ties')\n",
    "    ties=np.sum(ranks[0]==ranks[1:], axis=0)\n",
    "    ranks=ranks[0]\n",
    "    \n",
    "    return ranks"
   ]
  },
  {
   "cell_type": "markdown",
   "metadata": {},
   "source": [
    "## Gather the Data from our Zarr Dataset"
   ]
  },
  {
   "cell_type": "code",
   "execution_count": 5,
   "metadata": {},
   "outputs": [],
   "source": [
    "AllDat = xr.open_zarr('/Users/will/Desktop/Haupt/Sebastian/ECMWFt2m_zar/')\n",
    "#Add Mean and Standard deviation of Esnsembles and remove the member dimension\n",
    "AllDat= AllDat.assign(t2m_fc_mean=AllDat.t2m_fc.mean(dim='member'))\n",
    "AllDat= AllDat.assign(t2m_fc_std=AllDat.t2m_fc.std(dim='member'))\n",
    "AllDat=AllDat.drop('t2m_fc')\n",
    "AllDat.squeeze()\n",
    "del AllDat['member']\n",
    "# AllDat"
   ]
  },
  {
   "cell_type": "markdown",
   "metadata": {},
   "source": [
    "## Split the data into appropriate Training, Validating, and Testing chunks\n",
    "\n",
    "Let's train on 2007-2014, validate on 2015, test on 2015 onwards\n",
    "we do this based on the date to make sure that the temporal correlation between the forecasts has settled to --> 0"
   ]
  },
  {
   "cell_type": "code",
   "execution_count": 6,
   "metadata": {
    "collapsed": true
   },
   "outputs": [],
   "source": [
    "#Train\n",
    "Dat_Training = AllDat.loc[dict(time=slice('2007-01-03', '2013-01-01'))]\n",
    "df_Train=Dat_Training.dropna(dim='station')\n",
    "df_Train=df_Train.to_dataframe()\n",
    "df_Train=df_Train.droplevel(0)\n",
    "\n",
    "#Test\n",
    "Dat_Validate = AllDat.loc[dict(time=slice('2014-01-01', '2014-12-31'))]\n",
    "df_Validate = Dat_Validate.dropna(dim='station')\n",
    "df_Validate=df_Validate.to_dataframe()\n",
    "df_Validate=df_Validate.droplevel(0)\n",
    "\n",
    "#Validate\n",
    "Dat_Test= AllDat.loc[dict(time=slice('2016-01-01', '2016-12-31'))]\n",
    "df_Test = Dat_Test.dropna(dim='station')\n",
    "df_Test=df_Test.to_dataframe()\n",
    "df_Test=df_Test.droplevel(0)"
   ]
  },
  {
   "cell_type": "markdown",
   "metadata": {},
   "source": [
    "## Build the EMOS network using Keras to Ingest Data and Post-Process Forecast:"
   ]
  },
  {
   "cell_type": "code",
   "execution_count": 7,
   "metadata": {},
   "outputs": [
    {
     "name": "stdout",
     "output_type": "stream",
     "text": [
      "WARNING:tensorflow:From /Users/will/anaconda2/envs/post_process/lib/python3.6/site-packages/tensorflow/python/ops/resource_variable_ops.py:435: colocate_with (from tensorflow.python.framework.ops) is deprecated and will be removed in a future version.\n",
      "Instructions for updating:\n",
      "Colocations handled automatically by placer.\n",
      "Model: \"model_1\"\n",
      "__________________________________________________________________________________________________\n",
      "Layer (type)                    Output Shape         Param #     Connected to                     \n",
      "==================================================================================================\n",
      "input_1 (InputLayer)            (None, 1)            0                                            \n",
      "__________________________________________________________________________________________________\n",
      "input_2 (InputLayer)            (None, 1)            0                                            \n",
      "__________________________________________________________________________________________________\n",
      "dense_1 (Dense)                 (None, 1)            2           input_1[0][0]                    \n",
      "__________________________________________________________________________________________________\n",
      "dense_2 (Dense)                 (None, 1)            2           input_2[0][0]                    \n",
      "__________________________________________________________________________________________________\n",
      "concatenate_1 (Concatenate)     (None, 2)            0           dense_1[0][0]                    \n",
      "                                                                 dense_2[0][0]                    \n",
      "==================================================================================================\n",
      "Total params: 4\n",
      "Trainable params: 4\n",
      "Non-trainable params: 0\n",
      "__________________________________________________________________________________________________\n"
     ]
    }
   ],
   "source": [
    "model_keras = build_EMOS_network_keras(compile=True, optimizer='sgd', lr=0.1)\n",
    "model_keras.summary()"
   ]
  },
  {
   "cell_type": "code",
   "execution_count": 8,
   "metadata": {},
   "outputs": [
    {
     "name": "stdout",
     "output_type": "stream",
     "text": [
      "Train on 361515 samples, validate on 136884 samples\n",
      "Epoch 1/40\n",
      "361515/361515 [==============================] - 1s 2us/step - loss: 1.7993 - val_loss: 1.7262\n",
      "Epoch 2/40\n",
      "361515/361515 [==============================] - 0s 1us/step - loss: 1.6663 - val_loss: 1.6855\n",
      "Epoch 3/40\n",
      "361515/361515 [==============================] - 0s 1us/step - loss: 1.6507 - val_loss: 1.3117\n",
      "Epoch 4/40\n",
      "361515/361515 [==============================] - 0s 1us/step - loss: 1.6498 - val_loss: 1.8107\n",
      "Epoch 5/40\n",
      "361515/361515 [==============================] - 1s 1us/step - loss: 1.6487 - val_loss: 1.3088\n",
      "Epoch 6/40\n",
      "361515/361515 [==============================] - 0s 1us/step - loss: 1.6440 - val_loss: 1.6706\n",
      "Epoch 7/40\n",
      "361515/361515 [==============================] - 0s 1us/step - loss: 1.6402 - val_loss: 1.3825\n",
      "Epoch 8/40\n",
      "361515/361515 [==============================] - 0s 1us/step - loss: 1.6378 - val_loss: 1.2297\n",
      "Epoch 9/40\n",
      "361515/361515 [==============================] - 0s 1us/step - loss: 1.6357 - val_loss: 1.9984\n",
      "Epoch 10/40\n",
      "361515/361515 [==============================] - 0s 1us/step - loss: 1.6359 - val_loss: 1.8753\n",
      "Epoch 11/40\n",
      "361515/361515 [==============================] - 0s 1us/step - loss: 1.6394 - val_loss: 1.7665\n",
      "Epoch 12/40\n",
      "361515/361515 [==============================] - 0s 1us/step - loss: 1.6341 - val_loss: 1.7834\n",
      "Epoch 13/40\n",
      "361515/361515 [==============================] - 0s 1us/step - loss: 1.6368 - val_loss: 1.8563\n",
      "\n",
      "Epoch 00013: ReduceLROnPlateau reducing learning rate to 0.010000000149011612.\n",
      "Epoch 14/40\n",
      "361515/361515 [==============================] - 0s 1us/step - loss: 1.1885 - val_loss: 1.0545\n",
      "Epoch 15/40\n",
      "361515/361515 [==============================] - 0s 1us/step - loss: 1.1614 - val_loss: 1.0359\n",
      "Epoch 16/40\n",
      "361515/361515 [==============================] - 0s 1us/step - loss: 1.1552 - val_loss: 1.0297\n",
      "Epoch 17/40\n",
      "361515/361515 [==============================] - 0s 1us/step - loss: 1.1536 - val_loss: 1.0289\n",
      "Epoch 18/40\n",
      "361515/361515 [==============================] - 0s 1us/step - loss: 1.1531 - val_loss: 1.0279\n",
      "Epoch 19/40\n",
      "361515/361515 [==============================] - 0s 1us/step - loss: 1.1528 - val_loss: 1.0258\n",
      "Epoch 20/40\n",
      "361515/361515 [==============================] - 1s 1us/step - loss: 1.1525 - val_loss: 1.0269\n",
      "Epoch 21/40\n",
      "361515/361515 [==============================] - 1s 1us/step - loss: 1.1522 - val_loss: 1.0250\n",
      "Epoch 22/40\n",
      "361515/361515 [==============================] - 0s 1us/step - loss: 1.1521 - val_loss: 1.0270\n",
      "Epoch 23/40\n",
      "361515/361515 [==============================] - 0s 1us/step - loss: 1.1519 - val_loss: 1.0258\n",
      "Epoch 24/40\n",
      "361515/361515 [==============================] - 0s 1us/step - loss: 1.1517 - val_loss: 1.0242\n",
      "Epoch 25/40\n",
      "361515/361515 [==============================] - 0s 1us/step - loss: 1.1515 - val_loss: 1.0246\n",
      "Epoch 26/40\n",
      "361515/361515 [==============================] - 0s 1us/step - loss: 1.1514 - val_loss: 1.0245\n",
      "Epoch 27/40\n",
      "361515/361515 [==============================] - 0s 1us/step - loss: 1.1512 - val_loss: 1.0241\n",
      "Epoch 28/40\n",
      "361515/361515 [==============================] - 0s 1us/step - loss: 1.1511 - val_loss: 1.0241\n",
      "Epoch 29/40\n",
      "361515/361515 [==============================] - 0s 1us/step - loss: 1.1510 - val_loss: 1.0235\n",
      "Epoch 30/40\n",
      "361515/361515 [==============================] - 0s 1us/step - loss: 1.1509 - val_loss: 1.0252\n",
      "Epoch 31/40\n",
      "361515/361515 [==============================] - 0s 1us/step - loss: 1.1508 - val_loss: 1.0260\n",
      "Epoch 32/40\n",
      "361515/361515 [==============================] - 0s 1us/step - loss: 1.1507 - val_loss: 1.0237\n",
      "Epoch 33/40\n",
      "361515/361515 [==============================] - 0s 1us/step - loss: 1.1506 - val_loss: 1.0225\n",
      "Epoch 34/40\n",
      "361515/361515 [==============================] - 0s 1us/step - loss: 1.1505 - val_loss: 1.0231\n",
      "Epoch 35/40\n",
      "361515/361515 [==============================] - 0s 1us/step - loss: 1.1505 - val_loss: 1.0222\n",
      "Epoch 36/40\n",
      "361515/361515 [==============================] - 0s 1us/step - loss: 1.1504 - val_loss: 1.0257\n",
      "Epoch 37/40\n",
      "361515/361515 [==============================] - 0s 1us/step - loss: 1.1504 - val_loss: 1.0224\n",
      "Epoch 38/40\n",
      "361515/361515 [==============================] - 0s 1us/step - loss: 1.1503 - val_loss: 1.0259\n",
      "Epoch 39/40\n",
      "361515/361515 [==============================] - 0s 1us/step - loss: 1.1502 - val_loss: 1.0266\n",
      "Epoch 40/40\n",
      "361515/361515 [==============================] - 0s 1us/step - loss: 1.1502 - val_loss: 1.0237\n",
      "\n",
      "Epoch 00040: ReduceLROnPlateau reducing learning rate to 0.0009999999776482583.\n"
     ]
    },
    {
     "data": {
      "text/plain": [
       "<keras.callbacks.callbacks.History at 0x62761e2b0>"
      ]
     },
     "execution_count": 8,
     "metadata": {},
     "output_type": "execute_result"
    }
   ],
   "source": [
    "#FIT PARAMETERS\n",
    "#batch number and number of epochs to train: \n",
    "bn =1024 \n",
    "epcs = 40\n",
    "\n",
    "#train data\n",
    "x1 = np.array(df_Train['t2m_fc_mean'])\n",
    "x2 = np.array(df_Train['t2m_fc_std'])\n",
    "y = np.array(df_Train['t2m_obs'])\n",
    "#validate data\n",
    "x1_v = np.array(df_Validate['t2m_fc_mean'])\n",
    "x2_v = np.array(df_Validate['t2m_fc_std'])\n",
    "y_v = np.array(df_Validate['t2m_obs'])\n",
    "#test data \n",
    "x1_t = np.array(df_Test['t2m_fc_mean'])\n",
    "x2_t = np.array(df_Test['t2m_fc_std'])\n",
    "y_t = np.array(df_Test['t2m_obs'])\n",
    "\n",
    "#### KERAS CALLBACKS TO ADD to Training######\n",
    "filp = '/where/your/best/model/is/saved'\n",
    "svbst = keras.callbacks.callbacks.ModelCheckpoint(filp, monitor='val_loss', \n",
    "                                                  verbose=1, save_best_only=True, save_weights_only=False)\n",
    "#add this to the callbacks in fit function to save the best model on your personal machine. \n",
    "\n",
    "earlystop = keras.callbacks.callbacks.EarlyStopping(monitor='val_loss', min_delta=0, patience=10, \n",
    "                                                    verbose=1, mode='auto', restore_best_weights=True) \n",
    "rdclr = keras.callbacks.callbacks.ReduceLROnPlateau(monitor='val_loss', factor=0.1, patience=5, verbose=1, \n",
    "                                                    mode='auto', min_delta=0.0001, cooldown=0, min_lr=0)\n",
    "\n",
    "#### Fitting the Model ######\n",
    "model_keras.fit([x1,x2],y,batch_size=bn,validation_data=[[x1_t,x2_t],y_t],epochs=40,callbacks=[earlystop,rdclr])"
   ]
  },
  {
   "cell_type": "markdown",
   "metadata": {},
   "source": [
    "## Gather our Predictions and Evaluate the Method"
   ]
  },
  {
   "cell_type": "code",
   "execution_count": 9,
   "metadata": {
    "collapsed": true
   },
   "outputs": [],
   "source": [
    "# Now make our predictions:\n",
    "preds = model_keras.predict([x1_t, x2_t])\n"
   ]
  },
  {
   "cell_type": "code",
   "execution_count": 10,
   "metadata": {},
   "outputs": [
    {
     "data": {
      "text/html": [
       "<div>\n",
       "<style scoped>\n",
       "    .dataframe tbody tr th:only-of-type {\n",
       "        vertical-align: middle;\n",
       "    }\n",
       "\n",
       "    .dataframe tbody tr th {\n",
       "        vertical-align: top;\n",
       "    }\n",
       "\n",
       "    .dataframe thead th {\n",
       "        text-align: right;\n",
       "    }\n",
       "</style>\n",
       "<table border=\"1\" class=\"dataframe\">\n",
       "  <thead>\n",
       "    <tr style=\"text-align: right;\">\n",
       "      <th></th>\n",
       "      <th>time_validity</th>\n",
       "      <th>Station_ID</th>\n",
       "      <th>Obs</th>\n",
       "      <th>Emos_mean</th>\n",
       "      <th>Emos_std</th>\n",
       "      <th>ECMWF_mean</th>\n",
       "      <th>ECMWF_std</th>\n",
       "    </tr>\n",
       "    <tr>\n",
       "      <th>time</th>\n",
       "      <th></th>\n",
       "      <th></th>\n",
       "      <th></th>\n",
       "      <th></th>\n",
       "      <th></th>\n",
       "      <th></th>\n",
       "      <th></th>\n",
       "    </tr>\n",
       "  </thead>\n",
       "  <tbody>\n",
       "    <tr>\n",
       "      <th>2016-01-01</th>\n",
       "      <td>2016-01-01</td>\n",
       "      <td>44.0</td>\n",
       "      <td>4.3</td>\n",
       "      <td>4.384873</td>\n",
       "      <td>-1.843977</td>\n",
       "      <td>4.001777</td>\n",
       "      <td>0.604245</td>\n",
       "    </tr>\n",
       "    <tr>\n",
       "      <th>2016-01-01</th>\n",
       "      <td>2016-01-01</td>\n",
       "      <td>71.0</td>\n",
       "      <td>3.3</td>\n",
       "      <td>1.560785</td>\n",
       "      <td>-2.164276</td>\n",
       "      <td>0.933522</td>\n",
       "      <td>1.482697</td>\n",
       "    </tr>\n",
       "    <tr>\n",
       "      <th>2016-01-01</th>\n",
       "      <td>2016-01-01</td>\n",
       "      <td>78.0</td>\n",
       "      <td>3.2</td>\n",
       "      <td>4.339982</td>\n",
       "      <td>-1.864984</td>\n",
       "      <td>3.953004</td>\n",
       "      <td>0.661860</td>\n",
       "    </tr>\n",
       "    <tr>\n",
       "      <th>2016-01-01</th>\n",
       "      <td>2016-01-01</td>\n",
       "      <td>91.0</td>\n",
       "      <td>3.5</td>\n",
       "      <td>1.892029</td>\n",
       "      <td>-2.233069</td>\n",
       "      <td>1.293405</td>\n",
       "      <td>1.671367</td>\n",
       "    </tr>\n",
       "    <tr>\n",
       "      <th>2016-01-01</th>\n",
       "      <td>2016-01-01</td>\n",
       "      <td>102.0</td>\n",
       "      <td>7.1</td>\n",
       "      <td>6.338899</td>\n",
       "      <td>-1.742166</td>\n",
       "      <td>6.124743</td>\n",
       "      <td>0.325021</td>\n",
       "    </tr>\n",
       "    <tr>\n",
       "      <th>...</th>\n",
       "      <td>...</td>\n",
       "      <td>...</td>\n",
       "      <td>...</td>\n",
       "      <td>...</td>\n",
       "      <td>...</td>\n",
       "      <td>...</td>\n",
       "      <td>...</td>\n",
       "    </tr>\n",
       "    <tr>\n",
       "      <th>2016-12-31</th>\n",
       "      <td>2016-12-31</td>\n",
       "      <td>13713.0</td>\n",
       "      <td>-4.0</td>\n",
       "      <td>-2.164375</td>\n",
       "      <td>-1.718440</td>\n",
       "      <td>-3.113707</td>\n",
       "      <td>0.259951</td>\n",
       "    </tr>\n",
       "    <tr>\n",
       "      <th>2016-12-31</th>\n",
       "      <td>2016-12-31</td>\n",
       "      <td>13777.0</td>\n",
       "      <td>-4.1</td>\n",
       "      <td>0.097468</td>\n",
       "      <td>-1.752642</td>\n",
       "      <td>-0.656309</td>\n",
       "      <td>0.353752</td>\n",
       "    </tr>\n",
       "    <tr>\n",
       "      <th>2016-12-31</th>\n",
       "      <td>2016-12-31</td>\n",
       "      <td>15000.0</td>\n",
       "      <td>2.0</td>\n",
       "      <td>-1.428155</td>\n",
       "      <td>-1.785357</td>\n",
       "      <td>-2.313835</td>\n",
       "      <td>0.443476</td>\n",
       "    </tr>\n",
       "    <tr>\n",
       "      <th>2016-12-31</th>\n",
       "      <td>2016-12-31</td>\n",
       "      <td>15207.0</td>\n",
       "      <td>-4.2</td>\n",
       "      <td>-3.054314</td>\n",
       "      <td>-1.729583</td>\n",
       "      <td>-4.080589</td>\n",
       "      <td>0.290510</td>\n",
       "    </tr>\n",
       "    <tr>\n",
       "      <th>2016-12-31</th>\n",
       "      <td>2016-12-31</td>\n",
       "      <td>15444.0</td>\n",
       "      <td>-5.3</td>\n",
       "      <td>-2.517678</td>\n",
       "      <td>-1.773623</td>\n",
       "      <td>-3.497557</td>\n",
       "      <td>0.411294</td>\n",
       "    </tr>\n",
       "  </tbody>\n",
       "</table>\n",
       "<p>136884 rows × 7 columns</p>\n",
       "</div>"
      ],
      "text/plain": [
       "           time_validity  Station_ID  Obs  Emos_mean  Emos_std  ECMWF_mean  \\\n",
       "time                                                                         \n",
       "2016-01-01    2016-01-01        44.0  4.3   4.384873 -1.843977    4.001777   \n",
       "2016-01-01    2016-01-01        71.0  3.3   1.560785 -2.164276    0.933522   \n",
       "2016-01-01    2016-01-01        78.0  3.2   4.339982 -1.864984    3.953004   \n",
       "2016-01-01    2016-01-01        91.0  3.5   1.892029 -2.233069    1.293405   \n",
       "2016-01-01    2016-01-01       102.0  7.1   6.338899 -1.742166    6.124743   \n",
       "...                  ...         ...  ...        ...       ...         ...   \n",
       "2016-12-31    2016-12-31     13713.0 -4.0  -2.164375 -1.718440   -3.113707   \n",
       "2016-12-31    2016-12-31     13777.0 -4.1   0.097468 -1.752642   -0.656309   \n",
       "2016-12-31    2016-12-31     15000.0  2.0  -1.428155 -1.785357   -2.313835   \n",
       "2016-12-31    2016-12-31     15207.0 -4.2  -3.054314 -1.729583   -4.080589   \n",
       "2016-12-31    2016-12-31     15444.0 -5.3  -2.517678 -1.773623   -3.497557   \n",
       "\n",
       "            ECMWF_std  \n",
       "time                   \n",
       "2016-01-01   0.604245  \n",
       "2016-01-01   1.482697  \n",
       "2016-01-01   0.661860  \n",
       "2016-01-01   1.671367  \n",
       "2016-01-01   0.325021  \n",
       "...               ...  \n",
       "2016-12-31   0.259951  \n",
       "2016-12-31   0.353752  \n",
       "2016-12-31   0.443476  \n",
       "2016-12-31   0.290510  \n",
       "2016-12-31   0.411294  \n",
       "\n",
       "[136884 rows x 7 columns]"
      ]
     },
     "execution_count": 10,
     "metadata": {},
     "output_type": "execute_result"
    }
   ],
   "source": [
    "#creating a dataframe to save and store the results of the Post-Processing method. \n",
    "#dictionary for Pandas\n",
    "d = {'time_validity': df_Test.index, 'Station_ID':df_Test.station_id,'Obs': df_Test.t2m_obs,'Emos_mean': preds[:,0],'Emos_std': preds[:,1],\n",
    "    'ECMWF_mean':df_Test.t2m_fc_mean,'ECMWF_std':df_Test.t2m_fc_std}\n",
    "results_df = pd.DataFrame(d)\n",
    "\n",
    "#Sorting DataFrame by time and Station ID\n",
    "results_df = results_df.sort_values(by = ['time','Station_ID'], ascending = [True, True])\n",
    "results_df"
   ]
  },
  {
   "cell_type": "markdown",
   "metadata": {},
   "source": [
    "## Evaluate CRPS Pre and Post EMOS-post processing:"
   ]
  },
  {
   "cell_type": "code",
   "execution_count": 11,
   "metadata": {},
   "outputs": [
    {
     "name": "stdout",
     "output_type": "stream",
     "text": [
      "136884/136884 [==============================] - 1s 7us/step\n"
     ]
    }
   ],
   "source": [
    "crps_preds = model_keras.evaluate([x1_t,x2_t],y_t)\n",
    "#jump through hoops to get data in the right form for loss function:\n",
    "ECMWFt2m_pred = np.transpose(np.array([df_Test.t2m_fc_mean, df_Test.t2m_fc_std]))\n",
    "crps_ECMWF= keras.backend.eval(crps_cost_function(np.expand_dims(y_t,axis=1),ECMWFt2m_pred ))"
   ]
  },
  {
   "cell_type": "code",
   "execution_count": 12,
   "metadata": {},
   "outputs": [
    {
     "name": "stdout",
     "output_type": "stream",
     "text": [
      "Post-Processed with EMOS a Global CRPS: 1.02 !!!!!!!!!!!\n",
      "Raw Ensemble a Global CRPS: 1.17\n"
     ]
    }
   ],
   "source": [
    "print('Post-Processed with EMOS a Global CRPS:',np.round(crps_preds,2),'!!!!!!!!!!!')\n",
    "print('Raw Ensemble a Global CRPS:',np.round(crps_ECMWF,2))"
   ]
  },
  {
   "cell_type": "markdown",
   "metadata": {},
   "source": [
    "### Again See Rasp and Lerch 2018 to continue to explore other methods for Post-Processing this data. \n",
    "\n",
    "github for relevant code: [GITHUB](https://github.com/slerch/ppnn)\n",
    "    \n",
    "    \n",
    "Paper URL: [Rasp & Lerach 2018](https://arxiv.org/abs/1805.09091)"
   ]
  },
  {
   "cell_type": "markdown",
   "metadata": {},
   "source": [
    "# Further Metrics for Goodness of Ensemble\n",
    "\n"
   ]
  },
  {
   "attachments": {
    "image.png": {
     "image/png": "[encoded data removed]"
    }
   },
   "cell_type": "markdown",
   "metadata": {
    "collapsed": true
   },
   "source": [
    "## Binned Spread/ Skill Plot \n",
    "---\n",
    "\n",
    "![image.png](attachment:image.png)\n",
    "-- Leutbecher and Palmer 2008\n",
    "\n",
    "Binned Spread-Skill plot shows the calibration of an ensemble and is formed by the equation above see Leutbecher and Palmer 2008 for more detail. The plot is meant to show how variations in the ensemble spread can predict variations in the ensemble accuracy, where a perfectly calibrated ensemble falls direction on the 1:1 line."
   ]
  },
  {
   "cell_type": "code",
   "execution_count": 65,
   "metadata": {},
   "outputs": [
    {
     "data": {
      "image/png": "[encoded data removed]",
      "text/plain": [
       "<Figure size 936x720 with 1 Axes>"
      ]
     },
     "metadata": {},
     "output_type": "display_data"
    }
   ],
   "source": [
    "nobins=15 # number of bins to seperate the spread skill\n",
    "nomems=40 # number of ensemble members to create\n",
    "[avgvar_m,msebin_m,avgvar_s,msebin_s] = spreadskill(np.array(results_df['Emos_mean']),np.array(results_df['Obs'])\n",
    "                                                    ,-1*np.array(results_df['Emos_std']),nobins,nomems)\n",
    "    \n",
    "###### plot: ######\n",
    "# fcast = 'F'+f'{((forenumb+1)*6):03}'\n",
    "plt.figure(figsize=[13,10])  # inches\n",
    "\n",
    "plt.errorbar(avgvar_m, msebin_m, xerr=avgvar_s, yerr=3*msebin_s, uplims=True, lolims=True,color='r',linewidth=2)\n",
    "\n",
    "plt.ylabel('Standard Error of the Mean $[K]$',fontsize=25)\n",
    "plt.xlabel('Binned Spread $[K]$',fontsize=25)\n",
    "\n",
    "plt.tick_params(axis='x', labelsize=20)\n",
    "plt.tick_params(axis='y', labelsize=20)\n",
    "plt.title('Binned Spread / Skill',fontsize=35)\n",
    "\n",
    "plt.plot([1.5,2.5],[1.5,2.5],'k--')\n",
    "plt.show()"
   ]
  },
  {
   "cell_type": "markdown",
   "metadata": {},
   "source": [
    "## Rank Histogram\n",
    "First let's create an ensemble by sampling from the defined parametric distributions: N(mean,std). Rank Histograms as detailed by Hamill 2001, show the frequnency in which a observation lands the ranked position of an ensemble. A perfectly calibrate ensmeble will have a flat rank histogram. Each forecast creates the histogram bins and these forecasts are \"ranked\" from highest to lowest, the observation then populates the bin in which it falls. In a calibrated ensemble forecast the observation will fall into the each bin an equal number of times. "
   ]
  },
  {
   "cell_type": "code",
   "execution_count": 66,
   "metadata": {
    "collapsed": true
   },
   "outputs": [],
   "source": [
    "ense_num = 15 #number of ensembles to generate.: \n",
    "enseGEN = np.zeros([ense_num,results_df.shape[0]])\n",
    "\n",
    "for ii in range(results_df.shape[0]):\n",
    "    nummer = np.random.normal(np.array(results_df['Emos_mean'])[ii],\n",
    "                              np.abs(np.array(results_df['Emos_std'])[ii]),ense_num)\n",
    "    \n",
    "    enseGEN[:,ii] = (nummer)\n"
   ]
  },
  {
   "cell_type": "code",
   "execution_count": 67,
   "metadata": {},
   "outputs": [
    {
     "name": "stdout",
     "output_type": "stream",
     "text": [
      "computing ranks\n",
      "computing ties\n"
     ]
    },
    {
     "data": {
      "image/png": "[encoded data removed]",
      "text/plain": [
       "<Figure size 1600x480 with 1 Axes>"
      ]
     },
     "metadata": {},
     "output_type": "display_data"
    }
   ],
   "source": [
    "#rank histogram:\n",
    "rr = ranker(results_df['Obs'],enseGEN)\n",
    "plt.figure(num=None, figsize=(20, 6), dpi=80, facecolor='w', edgecolor='k')\n",
    "plt.hist(rr,density=True,bins=ense_num+1)\n",
    "plt.ylim([0,0.20])\n",
    "plt.show()"
   ]
  },
  {
   "cell_type": "code",
   "execution_count": null,
   "metadata": {
    "collapsed": true
   },
   "outputs": [],
   "source": []
  }
 ],
 "metadata": {
  "kernelspec": {
   "display_name": "Python (post_process)",
   "language": "python",
   "name": "post_process"
  },
  "language_info": {
   "codemirror_mode": {
    "name": "ipython",
    "version": 3
   },
   "file_extension": ".py",
   "mimetype": "text/x-python",
   "name": "python",
   "nbconvert_exporter": "python",
   "pygments_lexer": "ipython3",
   "version": "3.6.10"
  }
 },
 "nbformat": 4,
 "nbformat_minor": 2
}
